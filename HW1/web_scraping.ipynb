{
 "cells": [
  {
   "cell_type": "code",
   "execution_count": 1,
   "metadata": {},
   "outputs": [],
   "source": [
    "import requests\n",
    "from bs4 import BeautifulSoup\n",
    "import pandas as pd\n",
    "\n",
    "# Initialize a DataFrame to hold all the combined data\n",
    "combined_data = pd.DataFrame()\n",
    "\n",
    "# Loop through the years of interest\n",
    "for year in range(2013, 2024):\n",
    "    # Construct the URL for the current year\n",
    "    url = f'https://www.boxofficemojo.com/year/world/{year}/'\n",
    "    \n",
    "    # Make the request and parse the content\n",
    "    response = requests.get(url)\n",
    "    content = response.content\n",
    "    soup = BeautifulSoup(content, 'html.parser')\n",
    "    \n",
    "    # Find all table rows\n",
    "    rows = soup.find_all('tr')\n",
    "    \n",
    "    # Extract data from each row\n",
    "    year_data = []\n",
    "    for row in rows[1:]:  # Skip the header row\n",
    "        cols = row.find_all('td')\n",
    "        cols = [cell.text.strip() for cell in cols]\n",
    "        year_data.append([year] + cols)  # Add the year to the beginning of the row data\n",
    "    \n",
    "    # Create a DataFrame for the current year\n",
    "    if year_data:\n",
    "        df = pd.DataFrame(year_data)\n",
    "        # Add the current year's data to the combined DataFrame\n",
    "        combined_data = pd.concat([combined_data, df], ignore_index=True)\n",
    "\n",
    "# Define the column headers\n",
    "column_headers = ['Year', 'Rank', 'Release Group', 'Worldwide', 'Domestic', 'Domestic %', 'Foreign', 'Foreign %']\n",
    "combined_data.columns = column_headers\n",
    "\n",
    "# Save the combined data to a CSV file\n",
    "combined_data.to_csv('box_office_2013_2023.csv', index=False)\n"
   ]
  }
 ],
 "metadata": {
  "kernelspec": {
   "display_name": "Python 3",
   "language": "python",
   "name": "python3"
  },
  "language_info": {
   "codemirror_mode": {
    "name": "ipython",
    "version": 3
   },
   "file_extension": ".py",
   "mimetype": "text/x-python",
   "name": "python",
   "nbconvert_exporter": "python",
   "pygments_lexer": "ipython3",
   "version": "3.9.13"
  }
 },
 "nbformat": 4,
 "nbformat_minor": 2
}
